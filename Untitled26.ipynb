{
  "nbformat": 4,
  "nbformat_minor": 0,
  "metadata": {
    "colab": {
      "provenance": [],
      "authorship_tag": "ABX9TyOM50ChJ9vyFPh2gBjYCzZ9",
      "include_colab_link": true
    },
    "kernelspec": {
      "name": "python3",
      "display_name": "Python 3"
    },
    "language_info": {
      "name": "python"
    }
  },
  "cells": [
    {
      "cell_type": "markdown",
      "metadata": {
        "id": "view-in-github",
        "colab_type": "text"
      },
      "source": [
        "<a href=\"https://colab.research.google.com/github/sivasankar3002/Film-Fusion/blob/main/Untitled26.ipynb\" target=\"_parent\"><img src=\"https://colab.research.google.com/assets/colab-badge.svg\" alt=\"Open In Colab\"/></a>"
      ]
    },
    {
      "cell_type": "code",
      "source": [
        "import streamlit as st\n",
        "import pandas as pd\n",
        "import numpy as np\n",
        "import seaborn as sns\n",
        "import matplotlib.pyplot as plt\n",
        "from sklearn.preprocessing import StandardScaler\n",
        "from sklearn.decomposition import PCA\n",
        "from fpdf import FPDF\n",
        "\n",
        "# Title of the app\n",
        "st.title(\"AI-Powered Data Analytics Tool\")\n",
        "\n",
        "# File uploader\n",
        "uploaded_file = st.file_uploader(\"Upload your CSV or Excel file\", type=[\"csv\", \"xlsx\"])\n",
        "\n",
        "if uploaded_file is not None:\n",
        "    # Load data\n",
        "    if uploaded_file.name.endswith('.csv'):\n",
        "        df = pd.read_csv(uploaded_file)\n",
        "    elif uploaded_file.name.endswith('.xlsx'):\n",
        "        df = pd.read_excel(uploaded_file)\n",
        "\n",
        "    # Display raw data\n",
        "    st.subheader(\"Raw Data\")\n",
        "    st.write(df)\n",
        "\n",
        "    # Data Cleaning\n",
        "    st.subheader(\"Data Cleaning\")\n",
        "    df = df.dropna()  # Drop missing values\n",
        "    df = df.drop_duplicates()  # Remove duplicates\n",
        "    st.write(\"Missing values and duplicates removed.\")\n",
        "\n",
        "    # Summary Statistics\n",
        "    st.subheader(\"Summary Statistics\")\n",
        "    st.write(df.describe())\n",
        "\n",
        "    # Data Visualization\n",
        "    st.subheader(\"Data Visualization\")\n",
        "    fig, ax = plt.subplots()\n",
        "    sns.histplot(df.iloc[:, 0], kde=True, ax=ax)  # Histogram of the first column\n",
        "    st.pyplot(fig)\n",
        "\n",
        "    # Correlation Heatmap\n",
        "    st.subheader(\"Correlation Heatmap\")\n",
        "    corr_matrix = df.corr()\n",
        "    fig, ax = plt.subplots()\n",
        "    sns.heatmap(corr_matrix, annot=True, cmap=\"coolwarm\", ax=ax)\n",
        "    st.pyplot(fig)\n",
        "\n",
        "    # Feature Engineering\n",
        "    st.subheader(\"Feature Engineering\")\n",
        "    scaler = StandardScaler()\n",
        "    scaled_data = scaler.fit_transform(df.select_dtypes(include=[np.number]))\n",
        "    pca = PCA(n_components=2)\n",
        "    reduced_data = pca.fit_transform(scaled_data)\n",
        "    st.write(\"PCA-transformed data:\")\n",
        "    st.write(reduced_data)\n",
        "\n",
        "    # Generate PDF Report\n",
        "    def generate_pdf_report():\n",
        "        pdf = FPDF()\n",
        "        pdf.add_page()\n",
        "        pdf.set_auto_page_break(auto=True, margin=15)\n",
        "        pdf.set_font(\"Arial\", size=12)\n",
        "        pdf.cell(200, 10, txt=\"Data Analytics Report\", ln=True, align=\"C\")\n",
        "        pdf.cell(200, 10, txt=\"Summary Statistics\", ln=True)\n",
        "        pdf.multi_cell(0, 10, txt=str(df.describe()))\n",
        "        pdf.output(\"report.pdf\")\n",
        "\n",
        "    # Download Report\n",
        "    st.subheader(\"Download Report\")\n",
        "    if st.button(\"Generate PDF Report\"):\n",
        "        generate_pdf_report()\n",
        "        with open(\"report.pdf\", \"rb\") as f:\n",
        "            st.download_button(\"Download PDF\", f, file_name=\"report.pdf\")\n"
      ],
      "metadata": {
        "id": "2RBaW4WFrRW3"
      },
      "execution_count": null,
      "outputs": []
    }
  ]
}